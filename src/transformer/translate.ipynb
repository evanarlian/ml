{
 "cells": [
  {
   "cell_type": "code",
   "execution_count": 1,
   "metadata": {},
   "outputs": [],
   "source": [
    "import torch\n",
    "from transformers import BartTokenizer\n",
    "from IPython.display import display\n",
    "\n",
    "from model import Transformer, TransformerConfig\n",
    "from utils import translate"
   ]
  },
  {
   "cell_type": "code",
   "execution_count": 2,
   "metadata": {},
   "outputs": [],
   "source": [
    "lit_ckpt_path = \"lightning_logs/version_3/checkpoints/epoch=9-step=154625.ckpt\"\n",
    "tokenizer_path = \"pretrained_tokenizers/bart_bpe_opus_en_id_30000\"\n",
    "\n",
    "# load model from pytorch lightning ckpt\n",
    "ckpt = torch.load(lit_ckpt_path, map_location=\"cpu\")\n",
    "model_state_dict = {k[6:]: v for k, v in ckpt[\"state_dict\"].items()}  # omit \"model.\"\n",
    "transformer_cfg = TransformerConfig(\n",
    "    n_encoders=4,\n",
    "    n_decoders=4,\n",
    "    vocab_sz=30000,\n",
    "    emb_sz=512,\n",
    "    ff_sz=512 * 4,\n",
    "    n_heads=8,\n",
    "    head_sz=512 // 8,\n",
    "    pdrop=0.1,\n",
    ")\n",
    "model = Transformer(transformer_cfg).cuda().eval()\n",
    "model.load_state_dict(model_state_dict)\n",
    "\n",
    "# load tokenizer\n",
    "tokenizer = BartTokenizer.from_pretrained(tokenizer_path)"
   ]
  },
  {
   "cell_type": "code",
   "execution_count": 3,
   "metadata": {},
   "outputs": [
    {
     "data": {
      "text/plain": [
       "<torch._C.Generator at 0x7fc0bb612cd0>"
      ]
     },
     "execution_count": 3,
     "metadata": {},
     "output_type": "execute_result"
    }
   ],
   "source": [
    "# comment out to start with fresh seed\n",
    "torch.manual_seed(0)"
   ]
  },
  {
   "cell_type": "code",
   "execution_count": 4,
   "metadata": {},
   "outputs": [
    {
     "data": {
      "text/plain": [
       "['The cat sat on the mat.',\n",
       " 'I have a red ball.',\n",
       " 'The sun is shining.',\n",
       " 'Birds can fly in the sky.',\n",
       " 'Mom bakes yummy cookies.',\n",
       " 'My teddy bear is so cuddly.',\n",
       " 'The frog jumped into the pond.',\n",
       " 'We plant seeds in the soil.',\n",
       " 'The big tree gives us shade.',\n",
       " \"Let's read a fun story together.\"]"
      ]
     },
     "metadata": {},
     "output_type": "display_data"
    },
    {
     "data": {
      "text/plain": [
       "['Kucing duduk di matt.',\n",
       " 'Aku punya bola merah.',\n",
       " 'Matahari bersinar.',\n",
       " 'Burung bisa terbang di langit.',\n",
       " 'Ibu menyertakan kue.',\n",
       " 'Beruang membosankanku begitu ceria.',\n",
       " 'Si katak melompat ke dalam kolam.',\n",
       " 'Kita memasang daging buah di tanah.',\n",
       " 'Pohon besar memberi kami tempat yang bagus.',\n",
       " 'Mari kita membaca cerita yang menyenangkan bersama-sama.']"
      ]
     },
     "metadata": {},
     "output_type": "display_data"
    },
    {
     "data": {
      "text/plain": [
       "['Kucing hantu sepuluh untuk bertambah.',\n",
       " 'Aku punya memungkinkanBer keluargamuwa merah',\n",
       " 'Bau matahariangannya bersinar.',\n",
       " ' Tapi -- M OrangPangeran bisa terbangke langit ini. berkeliling bintang...!',\n",
       " 'Ibuotan akan mencengadah kusyuk.',\n",
       " 'uo beruangSkydyAr vaksinku C mencongk Araknya.',\n",
       " ' apapan kali pembalasan bergerak keberteriak.',\n",
       " \"Kita memasang 'E terluka' di tanah.\",\n",
       " ' roti terbesar kiamat.',\n",
       " 'Mari malaikat berb at memperingatkan bersama-sama.']"
      ]
     },
     "metadata": {},
     "output_type": "display_data"
    }
   ],
   "source": [
    "# I use chatgpt to generate samples\n",
    "SIMPLE_TEXTS = [\n",
    "    \"The cat sat on the mat.\",\n",
    "    \"I have a red ball.\",\n",
    "    \"The sun is shining.\",\n",
    "    \"Birds can fly in the sky.\",\n",
    "    \"Mom bakes yummy cookies.\",\n",
    "    \"My teddy bear is so cuddly.\",\n",
    "    \"The frog jumped into the pond.\",\n",
    "    \"We plant seeds in the soil.\",\n",
    "    \"The big tree gives us shade.\",\n",
    "    \"Let's read a fun story together.\",\n",
    "]\n",
    "\n",
    "# temperature (t) settings:\n",
    "# < 1  =  more accurate\n",
    "# > 1  =  more creative (kinda dumb tbh)\n",
    "\n",
    "# see on simple texts\n",
    "display(SIMPLE_TEXTS)\n",
    "display(translate(model, tokenizer, max_gen_length=128, text=SIMPLE_TEXTS, t=0.5))\n",
    "display(translate(model, tokenizer, max_gen_length=128, text=SIMPLE_TEXTS, t=1.2))"
   ]
  },
  {
   "cell_type": "code",
   "execution_count": 5,
   "metadata": {},
   "outputs": [
    {
     "data": {
      "text/plain": [
       "['The phenomenon of quantum entanglement challenges classical notions of reality.',\n",
       " 'The economic implications of globalization have sparked widespread debate.',\n",
       " \"Shakespeare's intricate use of language adds layers of meaning to his plays.\",\n",
       " 'The principles of genetic engineering have revolutionized the field of biotechnology.',\n",
       " 'The theory of relativity reshaped our understanding of space, time, and gravity.',\n",
       " 'The ethical dilemma of artificial intelligence centers around its potential autonomy.',\n",
       " 'Postmodern literature often blurs the line between fiction and reality.',\n",
       " 'Inflation targeting has become a popular strategy for central banks in recent years.',\n",
       " 'The psychological effects of childhood trauma can have far-reaching consequences in adulthood.',\n",
       " 'Environmental sustainability requires a collective effort to mitigate climate change.']"
      ]
     },
     "metadata": {},
     "output_type": "display_data"
    },
    {
     "data": {
      "text/plain": [
       "['Format dari-lipadil tantangan tidak ada kenyataan.',\n",
       " 'Nomer ekonomi impres manis telah meluap wasi wetis.',\n",
       " 'Sandi She menggunakan bahasa-fungsi bahasa artinya untuk permainan.',\n",
       " 'Produkasi dari bahan kimia telah melakukan... dengan efek biadologi.',\n",
       " 'Teori dari hubungan kami dengan beberapa masa lalu, dan gravitasi.',\n",
       " 'Menurut penyebaran intelijen yang dapat dieksporasi di sekeliling potensial.',\n",
       " 'Baris-baris sering untuk menghapus batas antara fBahan dan kenyataan.',\n",
       " 'Dalam beberapa tahun yang lalu, pengejaran yang menjadi strategi populer bagi bank pusat dalam beberapa tahun ini.',\n",
       " 'E.L... Dm. S.I.D.D.D. L.A.A.R.D. L.S. M. T.P.S. Al-Q.S.S.',\n",
       " 'Enval tetap membutuhkan upaya untuk memperbesar perubahan perubahan bahkan perubahan.']"
      ]
     },
     "metadata": {},
     "output_type": "display_data"
    },
    {
     "data": {
      "text/plain": [
       "['Fefon sekali Van hidup UnitedLihatlah dulu dari tidak cahaya sifat kenyataan.',\n",
       " ' Bisa tolong kemari. mencoba mer makanan mer keluar perintahkan kami',\n",
       " ' menjelaskan hasil bersatu kuliah yang penuh arti untuk permainan melawan dua semua dapatkan.',\n",
       " 'PrYAahan haveerualIest dibawah sebuahTuan Dalam kemasibMasih punya kIS saat tersebut',\n",
       " 'T detektifZi menulisnya dari giliran papan keluar hidup kita, waktu, dan gravitasi.',\n",
       " 'kita semua mendapat kupu bekerja Benarkah, Sama dengan kel Apamu?',\n",
       " ' macam-macam bertuangkan garis antara berp tebak dan Arukan.',\n",
       " 'diaApalagi mendSayang menjadi strategi inti mohon gue TV selama keimanan ini',\n",
       " 'A Node kehidupan awal bisa menyebabkanKalau sayang kehilangan Ad mulai berk./ M 10 detik.',\n",
       " ' sepanjang masalahmu Dia butuh rencana mey sel gagal,']"
      ]
     },
     "metadata": {},
     "output_type": "display_data"
    }
   ],
   "source": [
    "# I use chatgpt to generate samples\n",
    "HARD_TEXTS = [\n",
    "    \"The phenomenon of quantum entanglement challenges classical notions of reality.\",\n",
    "    \"The economic implications of globalization have sparked widespread debate.\",\n",
    "    \"Shakespeare's intricate use of language adds layers of meaning to his plays.\",\n",
    "    \"The principles of genetic engineering have revolutionized the field of biotechnology.\",\n",
    "    \"The theory of relativity reshaped our understanding of space, time, and gravity.\",\n",
    "    \"The ethical dilemma of artificial intelligence centers around its potential autonomy.\",\n",
    "    \"Postmodern literature often blurs the line between fiction and reality.\",\n",
    "    \"Inflation targeting has become a popular strategy for central banks in recent years.\",\n",
    "    \"The psychological effects of childhood trauma can have far-reaching consequences in adulthood.\",\n",
    "    \"Environmental sustainability requires a collective effort to mitigate climate change.\"\n",
    "]\n",
    "\n",
    "# temperature (t) settings:\n",
    "# < 1  =  more accurate\n",
    "# > 1  =  more creative (kinda dumb tbh)\n",
    "\n",
    "# see on simple texts\n",
    "display(HARD_TEXTS)\n",
    "display(translate(model, tokenizer, max_gen_length=128, text=HARD_TEXTS, t=0.5))\n",
    "display(translate(model, tokenizer, max_gen_length=128, text=HARD_TEXTS, t=1.2))"
   ]
  }
 ],
 "metadata": {
  "kernelspec": {
   "display_name": "ml",
   "language": "python",
   "name": "python3"
  },
  "language_info": {
   "codemirror_mode": {
    "name": "ipython",
    "version": 3
   },
   "file_extension": ".py",
   "mimetype": "text/x-python",
   "name": "python",
   "nbconvert_exporter": "python",
   "pygments_lexer": "ipython3",
   "version": "3.10.11"
  },
  "orig_nbformat": 4
 },
 "nbformat": 4,
 "nbformat_minor": 2
}
